{
 "cells": [
  {
   "cell_type": "code",
   "execution_count": 4,
   "id": "81431b0b-b099-466f-835c-142a177c94e6",
   "metadata": {
    "tags": []
   },
   "outputs": [],
   "source": [
    "import pandas as pd"
   ]
  },
  {
   "cell_type": "code",
   "execution_count": 5,
   "id": "97c208cd-5ab2-4469-acb8-10ececdd06f6",
   "metadata": {
    "tags": []
   },
   "outputs": [],
   "source": [
    "df_codeshare = pd.read_csv('codeshare_log.csv')\n",
    "df_competition = pd.read_csv('competition_info.csv')\n",
    "df_participate = pd.read_csv('participate_log.csv')\n",
    "df_submission = pd.read_csv('submission_log.csv')\n",
    "df_talk = pd.read_csv('talk_log.csv')"
   ]
  },
  {
   "cell_type": "markdown",
   "id": "066b1a31-0e1d-4ea8-bc96-f0fac011bdaa",
   "metadata": {},
   "source": [
    "# <span style=\"font-style:italic; font-weight:bold;font-family:serif; font-size:1em;line-height:1.5em;color:blue;\">feature 엔지니어링 주제</span>"
   ]
  },
  {
   "cell_type": "code",
   "execution_count": 6,
   "id": "74210371-ed54-4477-89bf-bb3fdf588c60",
   "metadata": {
    "tags": []
   },
   "outputs": [
    {
     "name": "stdout",
     "output_type": "stream",
     "text": [
      "Index(['ID', '일자', '코드 공유 수', '댓글 수', '조회 수', '공유 수', '다운로드 수', '좋아요 수'], dtype='object')\n",
      "Index(['ID', '대회명', '키워드', '시작시간', '종료시간', '참여자 수', '상금 정보', '최대 팀원 수',\n",
      "       '수상자 수', '일일 제출횟수', '평가산식', '참가조건 여부', '연습가능 여부', '아이디어 대회 여부',\n",
      "       '월간 데이콘 여부', '대회 개요', '데이터 설명', '일정', '상금 상세정보', '규칙'],\n",
      "      dtype='object')\n",
      "Index(['ID', '일자', '참가자 수'], dtype='object')\n",
      "Index(['ID', '일자', '제출 수'], dtype='object')\n",
      "Index(['ID', '일자', '토크 수', '댓글 수', '조회 수', '공유 수', '좋아요 수'], dtype='object')\n"
     ]
    }
   ],
   "source": [
    "print(df_codeshare.columns)\n",
    "print(df_competition.columns)\n",
    "print(df_participate.columns)\n",
    "print(df_submission.columns)\n",
    "print(df_talk.columns)"
   ]
  },
  {
   "cell_type": "code",
   "execution_count": 9,
   "id": "13e39360-188b-4d04-a351-d5d61bf25ea3",
   "metadata": {
    "tags": []
   },
   "outputs": [
    {
     "data": {
      "text/html": [
       "<div>\n",
       "<style scoped>\n",
       "    .dataframe tbody tr th:only-of-type {\n",
       "        vertical-align: middle;\n",
       "    }\n",
       "\n",
       "    .dataframe tbody tr th {\n",
       "        vertical-align: top;\n",
       "    }\n",
       "\n",
       "    .dataframe thead th {\n",
       "        text-align: right;\n",
       "    }\n",
       "</style>\n",
       "<table border=\"1\" class=\"dataframe\">\n",
       "  <thead>\n",
       "    <tr style=\"text-align: right;\">\n",
       "      <th></th>\n",
       "      <th>ID</th>\n",
       "      <th>일자</th>\n",
       "      <th>참가자 수</th>\n",
       "      <th>제출 수</th>\n",
       "    </tr>\n",
       "  </thead>\n",
       "  <tbody>\n",
       "    <tr>\n",
       "      <th>0</th>\n",
       "      <td>ID_000</td>\n",
       "      <td>2018-08-31</td>\n",
       "      <td>1</td>\n",
       "      <td>54</td>\n",
       "    </tr>\n",
       "    <tr>\n",
       "      <th>1</th>\n",
       "      <td>ID_001</td>\n",
       "      <td>2018-11-14</td>\n",
       "      <td>1</td>\n",
       "      <td>13</td>\n",
       "    </tr>\n",
       "    <tr>\n",
       "      <th>2</th>\n",
       "      <td>ID_001</td>\n",
       "      <td>2018-12-01</td>\n",
       "      <td>1</td>\n",
       "      <td>18</td>\n",
       "    </tr>\n",
       "    <tr>\n",
       "      <th>3</th>\n",
       "      <td>ID_002</td>\n",
       "      <td>2019-03-25</td>\n",
       "      <td>3</td>\n",
       "      <td>3</td>\n",
       "    </tr>\n",
       "    <tr>\n",
       "      <th>4</th>\n",
       "      <td>ID_002</td>\n",
       "      <td>2019-03-26</td>\n",
       "      <td>3</td>\n",
       "      <td>3</td>\n",
       "    </tr>\n",
       "    <tr>\n",
       "      <th>...</th>\n",
       "      <td>...</td>\n",
       "      <td>...</td>\n",
       "      <td>...</td>\n",
       "      <td>...</td>\n",
       "    </tr>\n",
       "    <tr>\n",
       "      <th>4555</th>\n",
       "      <td>ID_147</td>\n",
       "      <td>2023-11-13</td>\n",
       "      <td>9</td>\n",
       "      <td>94</td>\n",
       "    </tr>\n",
       "    <tr>\n",
       "      <th>4556</th>\n",
       "      <td>ID_148</td>\n",
       "      <td>2023-10-27</td>\n",
       "      <td>15</td>\n",
       "      <td>37</td>\n",
       "    </tr>\n",
       "    <tr>\n",
       "      <th>4557</th>\n",
       "      <td>ID_148</td>\n",
       "      <td>2023-10-28</td>\n",
       "      <td>9</td>\n",
       "      <td>77</td>\n",
       "    </tr>\n",
       "    <tr>\n",
       "      <th>4558</th>\n",
       "      <td>ID_148</td>\n",
       "      <td>2023-10-29</td>\n",
       "      <td>15</td>\n",
       "      <td>127</td>\n",
       "    </tr>\n",
       "    <tr>\n",
       "      <th>4559</th>\n",
       "      <td>ID_148</td>\n",
       "      <td>2023-10-30</td>\n",
       "      <td>5</td>\n",
       "      <td>122</td>\n",
       "    </tr>\n",
       "  </tbody>\n",
       "</table>\n",
       "<p>4560 rows × 4 columns</p>\n",
       "</div>"
      ],
      "text/plain": [
       "          ID          일자  참가자 수  제출 수\n",
       "0     ID_000  2018-08-31      1    54\n",
       "1     ID_001  2018-11-14      1    13\n",
       "2     ID_001  2018-12-01      1    18\n",
       "3     ID_002  2019-03-25      3     3\n",
       "4     ID_002  2019-03-26      3     3\n",
       "...      ...         ...    ...   ...\n",
       "4555  ID_147  2023-11-13      9    94\n",
       "4556  ID_148  2023-10-27     15    37\n",
       "4557  ID_148  2023-10-28      9    77\n",
       "4558  ID_148  2023-10-29     15   127\n",
       "4559  ID_148  2023-10-30      5   122\n",
       "\n",
       "[4560 rows x 4 columns]"
      ]
     },
     "metadata": {},
     "output_type": "display_data"
    },
    {
     "name": "stdout",
     "output_type": "stream",
     "text": [
      "\n",
      " ID       0\n",
      "일자       0\n",
      "참가자 수    0\n",
      "제출 수     0\n",
      "dtype: int64\n"
     ]
    }
   ],
   "source": [
    "merge_participate_submission = pd.merge(df_participate, df_submission, on = ['ID','일자'], how = 'inner')\n",
    "display(merge_participate_submission)\n",
    "print('\\n', merge_participate_submission.isna().sum())"
   ]
  },
  {
   "cell_type": "code",
   "execution_count": 12,
   "id": "ae01b8fc-6dc1-46c8-a983-b1f43fff7257",
   "metadata": {
    "tags": []
   },
   "outputs": [
    {
     "data": {
      "text/plain": [
       "707     355\n",
       "4291    248\n",
       "3169    219\n",
       "2135    203\n",
       "4028    196\n",
       "       ... \n",
       "2266      1\n",
       "2260      1\n",
       "2252      1\n",
       "2166      1\n",
       "2280      1\n",
       "Name: 참가자 수, Length: 4560, dtype: int64"
      ]
     },
     "execution_count": 12,
     "metadata": {},
     "output_type": "execute_result"
    }
   ],
   "source": [
    "merge_participate_submission['참가자 수'].sort_values(ascending = False)"
   ]
  },
  {
   "cell_type": "code",
   "execution_count": null,
   "id": "3feffb01-73d6-4271-b2b6-c96fb4e220ed",
   "metadata": {},
   "outputs": [],
   "source": [
    "merge_competiton_codeshare = pd.merge()"
   ]
  }
 ],
 "metadata": {
  "kernelspec": {
   "display_name": "Python 3 (ipykernel)",
   "language": "python",
   "name": "python3"
  },
  "language_info": {
   "codemirror_mode": {
    "name": "ipython",
    "version": 3
   },
   "file_extension": ".py",
   "mimetype": "text/x-python",
   "name": "python",
   "nbconvert_exporter": "python",
   "pygments_lexer": "ipython3",
   "version": "3.11.5"
  }
 },
 "nbformat": 4,
 "nbformat_minor": 5
}
