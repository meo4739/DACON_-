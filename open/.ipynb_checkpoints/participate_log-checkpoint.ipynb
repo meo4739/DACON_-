{
 "cells": [
  {
   "cell_type": "code",
   "execution_count": 1,
   "id": "9279ba58-218f-41bf-b36c-4bf9d984692c",
   "metadata": {
    "tags": []
   },
   "outputs": [],
   "source": [
    "import pandas as pd"
   ]
  },
  {
   "cell_type": "code",
   "execution_count": 2,
   "id": "3570a8db-d5a8-4a31-bf36-b80f6cdc9128",
   "metadata": {
    "tags": []
   },
   "outputs": [],
   "source": [
    "df_participate = pd.read_csv('participate_log.csv')"
   ]
  },
  {
   "cell_type": "code",
   "execution_count": 3,
   "id": "fe006325-3e6c-44a8-aac7-9ac819157807",
   "metadata": {
    "tags": []
   },
   "outputs": [
    {
     "data": {
      "text/html": [
       "<div>\n",
       "<style scoped>\n",
       "    .dataframe tbody tr th:only-of-type {\n",
       "        vertical-align: middle;\n",
       "    }\n",
       "\n",
       "    .dataframe tbody tr th {\n",
       "        vertical-align: top;\n",
       "    }\n",
       "\n",
       "    .dataframe thead th {\n",
       "        text-align: right;\n",
       "    }\n",
       "</style>\n",
       "<table border=\"1\" class=\"dataframe\">\n",
       "  <thead>\n",
       "    <tr style=\"text-align: right;\">\n",
       "      <th></th>\n",
       "      <th>ID</th>\n",
       "      <th>일자</th>\n",
       "      <th>참가자 수</th>\n",
       "    </tr>\n",
       "  </thead>\n",
       "  <tbody>\n",
       "    <tr>\n",
       "      <th>0</th>\n",
       "      <td>ID_000</td>\n",
       "      <td>2018-08-31</td>\n",
       "      <td>1</td>\n",
       "    </tr>\n",
       "    <tr>\n",
       "      <th>1</th>\n",
       "      <td>ID_001</td>\n",
       "      <td>2018-11-14</td>\n",
       "      <td>1</td>\n",
       "    </tr>\n",
       "    <tr>\n",
       "      <th>2</th>\n",
       "      <td>ID_001</td>\n",
       "      <td>2018-12-01</td>\n",
       "      <td>1</td>\n",
       "    </tr>\n",
       "    <tr>\n",
       "      <th>3</th>\n",
       "      <td>ID_002</td>\n",
       "      <td>2019-02-11</td>\n",
       "      <td>2</td>\n",
       "    </tr>\n",
       "    <tr>\n",
       "      <th>4</th>\n",
       "      <td>ID_002</td>\n",
       "      <td>2019-02-18</td>\n",
       "      <td>1</td>\n",
       "    </tr>\n",
       "    <tr>\n",
       "      <th>...</th>\n",
       "      <td>...</td>\n",
       "      <td>...</td>\n",
       "      <td>...</td>\n",
       "    </tr>\n",
       "    <tr>\n",
       "      <th>5180</th>\n",
       "      <td>ID_147</td>\n",
       "      <td>2023-11-13</td>\n",
       "      <td>9</td>\n",
       "    </tr>\n",
       "    <tr>\n",
       "      <th>5181</th>\n",
       "      <td>ID_148</td>\n",
       "      <td>2023-10-27</td>\n",
       "      <td>15</td>\n",
       "    </tr>\n",
       "    <tr>\n",
       "      <th>5182</th>\n",
       "      <td>ID_148</td>\n",
       "      <td>2023-10-28</td>\n",
       "      <td>9</td>\n",
       "    </tr>\n",
       "    <tr>\n",
       "      <th>5183</th>\n",
       "      <td>ID_148</td>\n",
       "      <td>2023-10-29</td>\n",
       "      <td>15</td>\n",
       "    </tr>\n",
       "    <tr>\n",
       "      <th>5184</th>\n",
       "      <td>ID_148</td>\n",
       "      <td>2023-10-30</td>\n",
       "      <td>5</td>\n",
       "    </tr>\n",
       "  </tbody>\n",
       "</table>\n",
       "<p>5185 rows × 3 columns</p>\n",
       "</div>"
      ],
      "text/plain": [
       "          ID          일자  참가자 수\n",
       "0     ID_000  2018-08-31      1\n",
       "1     ID_001  2018-11-14      1\n",
       "2     ID_001  2018-12-01      1\n",
       "3     ID_002  2019-02-11      2\n",
       "4     ID_002  2019-02-18      1\n",
       "...      ...         ...    ...\n",
       "5180  ID_147  2023-11-13      9\n",
       "5181  ID_148  2023-10-27     15\n",
       "5182  ID_148  2023-10-28      9\n",
       "5183  ID_148  2023-10-29     15\n",
       "5184  ID_148  2023-10-30      5\n",
       "\n",
       "[5185 rows x 3 columns]"
      ]
     },
     "execution_count": 3,
     "metadata": {},
     "output_type": "execute_result"
    }
   ],
   "source": [
    "df_participate"
   ]
  },
  {
   "cell_type": "code",
   "execution_count": 4,
   "id": "e26fd7c6-3f50-40ce-8b78-310db707ddd4",
   "metadata": {
    "tags": []
   },
   "outputs": [],
   "source": [
    "import datetime"
   ]
  },
  {
   "cell_type": "code",
   "execution_count": null,
   "id": "b5a9831e-6cea-4a11-834f-ef6b2a147efc",
   "metadata": {},
   "outputs": [],
   "source": []
  }
 ],
 "metadata": {
  "kernelspec": {
   "display_name": "Python 3 (ipykernel)",
   "language": "python",
   "name": "python3"
  },
  "language_info": {
   "codemirror_mode": {
    "name": "ipython",
    "version": 3
   },
   "file_extension": ".py",
   "mimetype": "text/x-python",
   "name": "python",
   "nbconvert_exporter": "python",
   "pygments_lexer": "ipython3",
   "version": "3.11.5"
  }
 },
 "nbformat": 4,
 "nbformat_minor": 5
}
